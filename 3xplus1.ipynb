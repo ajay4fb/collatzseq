{
 "cells": [
  {
   "cell_type": "markdown",
   "id": "e692711f-2a82-44d5-84ce-f46724c7e89c",
   "metadata": {
    "tags": []
   },
   "source": [
    "# 3N+1 Program\n",
    "this program solves various features of 3n+1 problem\n"
   ]
  },
  {
   "cell_type": "code",
   "execution_count": 29,
   "id": "a5743197-0cbb-4725-ae14-c0541fe7b281",
   "metadata": {},
   "outputs": [
    {
     "name": "stdin",
     "output_type": "stream",
     "text": [
      "Enter the number:  26\n"
     ]
    },
    {
     "name": "stdout",
     "output_type": "stream",
     "text": [
      "No of terms in this sequence is:  11\n",
      "[26, 13, 40, 20, 10, 5, 16, 8, 4, 2, 1]\n",
      "[1, 2, 3, 4, 5, 6, 7, 8, 9, 10, 11]\n"
     ]
    },
    {
     "data": {
      "image/png": "[encoded data removed]",
      "text/plain": [
       "<Figure size 432x288 with 1 Axes>"
      ]
     },
     "metadata": {
      "needs_background": "light"
     },
     "output_type": "display_data"
    },
    {
     "name": "stdout",
     "output_type": "stream",
     "text": [
      "Highest point of this curve is 40 \n"
     ]
    }
   ],
   "source": [
    "import matplotlib.pyplot as plt\n",
    "\n",
    "def collatz_seq():\n",
    "    x = int(input(\"Enter the number: \"))\n",
    "\n",
    "\n",
    "    y_points = [x]\n",
    "    x_points = [1]\n",
    "    i = 2\n",
    "    while x != 1:\n",
    "        x_points.append(i)\n",
    "        if x % 2 == 0:\n",
    "            x = x / 2\n",
    "        else:\n",
    "            x = 3*x+1\n",
    "        y_points.append(int(x))\n",
    "        i += 1\n",
    "    print(\"No of terms in this sequence is: \", len(y_points))\n",
    "    print(y_points)\n",
    "    print(x_points)\n",
    "\n",
    "    plt.plot(x_points, y_points)\n",
    "    plt.show()\n",
    "\n",
    "    print(\"Highest point of this curve is {} \".format(max(y_points)))\n",
    "    \n",
    "collatz_seq()"
   ]
  },
  {
   "cell_type": "markdown",
   "id": "e066edf9-4733-4f91-b285-aa68550e9a57",
   "metadata": {},
   "source": []
  }
 ],
 "metadata": {
  "kernelspec": {
   "display_name": "Python 3",
   "language": "python",
   "name": "python3"
  },
  "language_info": {
   "codemirror_mode": {
    "name": "ipython",
    "version": 3
   },
   "file_extension": ".py",
   "mimetype": "text/x-python",
   "name": "python",
   "nbconvert_exporter": "python",
   "pygments_lexer": "ipython3",
   "version": "3.7.8"
  }
 },
 "nbformat": 4,
 "nbformat_minor": 5
}
